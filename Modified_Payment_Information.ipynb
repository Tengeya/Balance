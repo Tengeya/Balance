{
 "cells": [
  {
   "cell_type": "code",
   "execution_count": 1,
   "id": "d56f7c0b",
   "metadata": {},
   "outputs": [
    {
     "name": "stdout",
     "output_type": "stream",
     "text": [
      "Updated data saved to C:\\Users\\Jackson Tengeya\\Desktop\\Recon\\py\\Bloom 2.0\\Bloom 2.0 Daily_Payment_Information_06112023.xlsx\n"
     ]
    }
   ],
   "source": [
    "import pandas as pd\n",
    "from datetime import date\n",
    "\n",
    "# Define the file paths\n",
    "main_file_path = r'C:\\Users\\Jackson Tengeya\\Desktop\\Recon\\py\\Bloom 2.0\\Bloom 2 Dataset_Batch 2.csv'\n",
    "info_file_path = r'C:\\Users\\Jackson Tengeya\\Desktop\\Recon\\py\\Bloom 2.0\\Daily Payment Information Leo.csv'\n",
    "safaricom_balances_path = r'C:\\Users\\Jackson Tengeya\\Desktop\\Recon\\py\\Bloom 2.0\\safaricom_balances.csv'\n",
    "\n",
    "# Read both CSV files into DataFrames\n",
    "main_df = pd.read_csv(main_file_path)\n",
    "info_df = pd.read_csv(info_file_path)\n",
    "\n",
    "# Read the \"safaricom_balances.csv\" file\n",
    "safaricom_balances_df = pd.read_csv(safaricom_balances_path)\n",
    "\n",
    "# Convert the \"Account Number\" column to the same data type in both DataFrames (if not already)\n",
    "main_df['Account Number'] = main_df['Account Number'].astype(str)\n",
    "info_df['Account Number'] = info_df['Account Number'].astype(str)\n",
    "\n",
    "# Create a dictionary to map the columns from the main file to the info file\n",
    "column_mapping = {\n",
    "    'Surname': 'Surname',\n",
    "    'Forename 1': 'Forename 1',\n",
    "    'Forename 2': 'Forename 2',\n",
    "    'Forename 3': 'Forename 3',\n",
    "    'Primary Identification Document Type': 'Primary Identification Document Type',\n",
    "    'Primary Identification Document Number': 'Primary Identification Document Number',\n",
    "    'Currency of Facility': 'Currency of Facility',\n",
    "    'Original Amount': 'Original Amount',\n",
    "    'Current Balance': 'Current Balance',  # Keep this mapping for other cases\n",
    "    'Number of Instalments in Arrears': 'Number of Instalments in Arrears',\n",
    "    'Number of Days in Arrears': 'Number of Days in Arrears',\n",
    "    'Account Status': 'Account Status',\n",
    "}\n",
    "\n",
    "# Iterate through the rows of the main DataFrame\n",
    "for index, row in main_df.iterrows():\n",
    "    account_number = row['Account Number']\n",
    "    # Find the corresponding row(s) in the info DataFrame\n",
    "    matching_rows = info_df[info_df['Account Number'] == account_number]\n",
    "    if not matching_rows.empty:\n",
    "        # Update the existing row(s) in the info DataFrame with data from the main DataFrame\n",
    "        for col_main, col_info in column_mapping.items():\n",
    "            info_df.loc[matching_rows.index, col_info] = row[col_main]\n",
    "\n",
    "# Set the 'Snapshot Date', 'Client Type', and 'Company Name' columns to the desired values\n",
    "today_date = date.today().strftime('%Y%m%d')\n",
    "info_df['Snapshot Date'] = today_date\n",
    "info_df['Client Type'] = 'A'\n",
    "info_df['Company Name'] = 'AS'\n",
    "\n",
    "# Convert the 'loan_mifos_id' column in 'safaricom_balances_df' to the same data type as 'Account Number'\n",
    "safaricom_balances_df['loan_mifos_id'] = safaricom_balances_df['loan_mifos_id'].astype(str)\n",
    "\n",
    "# Merge the dataframes based on 'Account Number'\n",
    "merged_df = info_df.merge(safaricom_balances_df[['loan_mifos_id', 'safaricom_loan_balance']], \n",
    "                        left_on='Account Number', right_on='loan_mifos_id', how='left')\n",
    "\n",
    "# Multiply 'Original Amount', 'Payment Amount', and 'safaricom_loan_balance' by 100\n",
    "columns_to_multiply = ['Original Amount', 'Payment Amount', 'safaricom_loan_balance']\n",
    "for col in columns_to_multiply:\n",
    "    merged_df[col] = merged_df[col] * 100\n",
    "\n",
    "# Format \"Current Balance\" with leading zeros\n",
    "merged_df['Current Balance'] = merged_df['safaricom_loan_balance'].apply(lambda x: f'{int(x):03d}' if not pd.isna(x) else '')\n",
    "\n",
    "# Format \"Payment Date\" to YYYYMMDD format\n",
    "merged_df['Payment Date'] = pd.to_datetime(merged_df['Payment Date'], format='%d/%m/%Y').dt.strftime('%Y%m%d')\n",
    "\n",
    "# Define the output file path for the updated data in XLSX format\n",
    "output_file_path = r'C:\\Users\\Jackson Tengeya\\Desktop\\Recon\\py\\Bloom 2.0\\Bloom 2.0 Daily_Payment_Information_06112023.xlsx'\n",
    "\n",
    "# Save the updated data to an XLSX file, keeping only the original columns from info_file_path\n",
    "output_columns = info_df.columns\n",
    "merged_df = merged_df[output_columns]\n",
    "merged_df.to_excel(output_file_path, index=False)\n",
    "\n",
    "# Display a confirmation message\n",
    "print(f'Updated data saved to {output_file_path}')\n"
   ]
  },
  {
   "cell_type": "code",
   "execution_count": null,
   "id": "41ce6626",
   "metadata": {},
   "outputs": [],
   "source": []
  }
 ],
 "metadata": {
  "kernelspec": {
   "display_name": "Python 3 (ipykernel)",
   "language": "python",
   "name": "python3"
  },
  "language_info": {
   "codemirror_mode": {
    "name": "ipython",
    "version": 3
   },
   "file_extension": ".py",
   "mimetype": "text/x-python",
   "name": "python",
   "nbconvert_exporter": "python",
   "pygments_lexer": "ipython3",
   "version": "3.10.9"
  },
  "varInspector": {
   "cols": {
    "lenName": 16,
    "lenType": 16,
    "lenVar": 40
   },
   "kernels_config": {
    "python": {
     "delete_cmd_postfix": "",
     "delete_cmd_prefix": "del ",
     "library": "var_list.py",
     "varRefreshCmd": "print(var_dic_list())"
    },
    "r": {
     "delete_cmd_postfix": ") ",
     "delete_cmd_prefix": "rm(",
     "library": "var_list.r",
     "varRefreshCmd": "cat(var_dic_list()) "
    }
   },
   "types_to_exclude": [
    "module",
    "function",
    "builtin_function_or_method",
    "instance",
    "_Feature"
   ],
   "window_display": false
  }
 },
 "nbformat": 4,
 "nbformat_minor": 5
}
